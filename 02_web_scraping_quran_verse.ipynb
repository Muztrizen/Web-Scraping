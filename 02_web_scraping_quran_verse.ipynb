{
 "cells": [
  {
   "cell_type": "code",
   "execution_count": 2,
   "metadata": {},
   "outputs": [
    {
     "name": "stdout",
     "output_type": "stream",
     "text": [
      "Allah adalah Tuhan Yang Satu\n",
      "\n",
      "2,163\n",
      "\n",
      "4,171\n",
      "\n",
      "5,73\n",
      "\n",
      "6,19\n",
      "\n",
      "12,39\n",
      "\n",
      "14,52\n",
      "\n",
      "16,22\n",
      "\n",
      "16,51\n",
      "\n",
      "18,110\n",
      "\n",
      "21,108\n",
      "\n",
      "38,65\n",
      "\n",
      "39,4\n",
      "\n",
      "41,6\n",
      "\n"
     ]
    }
   ],
   "source": [
    "from requests import get\n",
    "from requests.exceptions import RequestException\n",
    "from contextlib import closing\n",
    "from bs4 import BeautifulSoup\n",
    "import pandas as pd\n",
    "import re\n",
    "import csv  \n",
    "\n",
    "def simple_get(url):\n",
    "    try:\n",
    "        with closing(get(url, stream=True)) as resp:\n",
    "            if is_good_response(resp):\n",
    "                return resp.content\n",
    "            else:\n",
    "                return None\n",
    "\n",
    "    except RequestException as e:\n",
    "        log_error('Error during requests to {0} : {1}'.format(url, str(e)))\n",
    "        return None\n",
    "\n",
    "def is_good_response(resp):\n",
    "    content_type = resp.headers['Content-Type'].lower()\n",
    "    return (resp.status_code == 200 \n",
    "            and content_type is not None \n",
    "            and content_type.find('html') > -1)\n",
    "\n",
    "def log_error(e):\n",
    "    print(e)\n",
    "    \n",
    "raw_html = simple_get('https://alquranalhadi.com/index.php/kajian/tema/8/allah-adalah-tuhan-yang-satu')\n",
    "html = BeautifulSoup(raw_html, 'html.parser')\n",
    "\n",
    "for h1 in html.findAll('h1'):\n",
    "    tema = str(h1.text)\n",
    "    print(tema)  \n",
    "\n",
    "table = html.findAll('p',attrs={\"class\":\"list_ayat\"})\n",
    "for a in table:\n",
    "    ayat = a.text\n",
    "    ayat = ayat.replace(\"|\",\"\")\n",
    "    ayat = ayat.replace(\":\",\",\")\n",
    "    ayat = ayat.replace(\" \", \"\")\n",
    "    print(ayat)\n",
    "\n",
    "file = open(\"Output.txt\",\"a\") \n",
    "file.write(tema)\n",
    "file.write(ayat)\n",
    "file.close() "
   ]
  },
  {
   "cell_type": "code",
   "execution_count": null,
   "metadata": {},
   "outputs": [],
   "source": []
  }
 ],
 "metadata": {
  "kernelspec": {
   "display_name": "Python 3",
   "language": "python",
   "name": "python3"
  },
  "language_info": {
   "codemirror_mode": {
    "name": "ipython",
    "version": 3
   },
   "file_extension": ".py",
   "mimetype": "text/x-python",
   "name": "python",
   "nbconvert_exporter": "python",
   "pygments_lexer": "ipython3",
   "version": "3.7.6"
  }
 },
 "nbformat": 4,
 "nbformat_minor": 4
}
