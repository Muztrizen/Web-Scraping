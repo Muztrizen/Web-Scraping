{
 "cells": [
  {
   "cell_type": "code",
   "execution_count": 1,
   "metadata": {
    "colab": {
     "base_uri": "https://localhost:8080/",
     "height": 1000
    },
    "colab_type": "code",
    "id": "6WBRB9a_d3_z",
    "outputId": "7bcc5977-cac5-455f-c429-283153ecc41e",
    "scrolled": true
   },
   "outputs": [
    {
     "name": "stdout",
     "output_type": "stream",
     "text": [
      "fatal: destination path 'GooglePlay-AppleStore-reviews-scraper' already exists and is not an empty directory.\n",
      "/Users/muzahmad/Tilawah Malaysia/Scrape-googleplay-store-apps-review/GooglePlay-AppleStore-reviews-scraper-master/GooglePlay-AppleStore-reviews-scraper\n",
      "Requirement already satisfied: pandas in /opt/anaconda3/lib/python3.7/site-packages (from -r requirements.txt (line 1)) (1.0.1)\n",
      "Requirement already satisfied: selenium in /opt/anaconda3/lib/python3.7/site-packages (from -r requirements.txt (line 2)) (3.141.0)\n",
      "Requirement already satisfied: numpy>=1.13.3 in /opt/anaconda3/lib/python3.7/site-packages (from pandas->-r requirements.txt (line 1)) (1.18.1)\n",
      "Requirement already satisfied: pytz>=2017.2 in /opt/anaconda3/lib/python3.7/site-packages (from pandas->-r requirements.txt (line 1)) (2019.3)\n",
      "Requirement already satisfied: python-dateutil>=2.6.1 in /opt/anaconda3/lib/python3.7/site-packages (from pandas->-r requirements.txt (line 1)) (2.8.1)\n",
      "Requirement already satisfied: urllib3 in /opt/anaconda3/lib/python3.7/site-packages (from selenium->-r requirements.txt (line 2)) (1.25.8)\n",
      "Requirement already satisfied: six>=1.5 in /opt/anaconda3/lib/python3.7/site-packages (from python-dateutil>=2.6.1->pandas->-r requirements.txt (line 1)) (1.14.0)\n",
      "Password:\n",
      "Password:"
     ]
    }
   ],
   "source": [
    "!git clone https://github.com/toxtli/GooglePlay-AppleStore-reviews-scraper.git\n",
    "%cd GooglePlay-AppleStore-reviews-scraper\n",
    "!./colab_headless.sh"
   ]
  },
  {
   "cell_type": "code",
   "execution_count": 1,
   "metadata": {
    "colab": {
     "base_uri": "https://localhost:8080/",
     "height": 51
    },
    "colab_type": "code",
    "id": "WTkjju5mm5ZM",
    "outputId": "84a88f8e-cc29-4658-8fd5-1127f09fca25",
    "scrolled": true
   },
   "outputs": [
    {
     "name": "stdout",
     "output_type": "stream",
     "text": [
      "40\n",
      "--- 10.747684955596924 seconds ---\n"
     ]
    }
   ],
   "source": [
    "!python app.py -g -q -s google -c my.tilawah -o review.csv -n 10"
   ]
  },
  {
   "cell_type": "code",
   "execution_count": 2,
   "metadata": {
    "colab": {
     "base_uri": "https://localhost:8080/",
     "height": 734
    },
    "colab_type": "code",
    "id": "0t6J4zAf4HZq",
    "outputId": "c2eb09e3-26cc-4958-f514-3171809c0475",
    "scrolled": false
   },
   "outputs": [
    {
     "name": "stdout",
     "output_type": "stream",
     "text": [
      "author,review,rating,vote_count,date,reply\r",
      "\r\n",
      "b'Sah Rizal Salleh',\"b'Learnt of this through the Monaliza YT Channel, been really helpful. The audio works great, the lettering sizes suits most age groups. Though, sometimes the color scheme makes the read quite difficult especially with several tajwid marks group together.'\",b'Rated 5 stars out of five stars',b'6',\"b'May 19, 2020'\",b''\r",
      "\r\n",
      "b'Md Yusuf',\"b'The most user friendly Quran app with tajweed markings, tafsir and audio. Extremely useful for us all to learn the proper recitation. May we all benefit from this amazing app. Barakallahu fiikum'\",b'Rated 5 stars out of five stars',b'3',\"b'May 29, 2020'\",b''\r",
      "\r\n",
      "b'Azim Azhan',\"b\"\"too much bug on android 10 (Note 10+) , can't even access the homepage but the content is good.\"\"\",b'Rated 5 stars out of five stars',b'3',\"b'May 26, 2020'\",b''\r",
      "\r\n",
      "b'Nursyazni Sulaiman',b'Alhamdulillah best al quran app ever. Extremely suitable for Malaysians. I love how they guide us word by word with the meaning and tajwid. Totally recommended! Thank you apps builder.',b'Rated 5 stars out of five stars',b'12',\"b'May 15, 2020'\",b''\r",
      "\r\n",
      "b'Zainudin Muhamad',b'I simply like it. Easy handling and readers friendly',b'Rated 4 stars out of five stars',b'1',\"b'May 25, 2020'\",b''\r",
      "\r\n",
      "b'Hazimah Rosle',\"b\"\"The best AlQuran app i've ever used! It tracks your reading. Reminder to read quran daily. Can make notes. And a lot other good stuff!\"\"\",b'Rated 5 stars out of five stars',b'6',\"b'May 16, 2020'\",b''\r",
      "\r\n",
      "b'SOA Nano',\"b\"\"Where are to cancel subscription? Not full options of apps.... Sorry to says.... Azan? Mark of Solat? Mark of fastin'? Others functions?.....only tajwid that u have.... Big small fonts is just like others apps.... But I really dissapointed I can't cancel my subscription's..... which are I had alread...\\nFull Review\"\"\",b'Rated 1 stars out of five stars',b'35',\"b'April 30, 2020'\",\"b'Trizen Technology SolutionsMay 2, 2020\\nWaalaikumsalam, tidak perlu batalkan \"\"subscription\"\" pun tuan, sebab naik taraf ke premium di aplikasi Tilawah Malaysia hanya perlu bayar sekali sahaja seumur hidup berbeza dengan aplikasi lain yang perlu bayar setiap tahun atau bulan.'\"\r",
      "\r\n",
      "b'Nan AM',\"b'App is good but unable to create account. Always show \"\"unexpected error\"\" message. Hope admin can rectify the issue.'\",b'Rated 5 stars out of five stars',b'25',\"b'May 1, 2020'\",\"b'Trizen Technology SolutionsMay 20, 2020\\nDah baiki tuan. Masalah sebab username dah guna kat orang lain.'\"\r",
      "\r\n",
      "b'Hazim Daud',\"b'User friendly interface, no ads, and many good interface i.e tajwid recital for ayat, note and bookmark.'\",b'Rated 5 stars out of five stars',b'32',\"b'April 30, 2020'\",b''\r",
      "\r\n",
      "b'Ace Andy Mirza',b'No advertisements. Very clear and easy to use. Alhamdulillah.',b'Rated 5 stars out of five stars',b'7',\"b'May 11, 2020'\",b''\r",
      "\r\n",
      "b'Azhari Dahli',b'Very easy to read and Arabic Dan translate',b'Rated 5 stars out of five stars',b'1',\"b'May 28, 2020'\",b''\r",
      "\r\n",
      "b'Mas Suzila',b'Another alternative to read alquran even we are outdoor. And it is easier to us. I love it. Thankyou',b'Rated 5 stars out of five stars',b'31',\"b'May 1, 2020'\",b''\r",
      "\r\n",
      "b'norwan ahmad',b'The apps is easy to use and contain many useful features',b'Rated 5 stars out of five stars',b'1',\"b'May 28, 2020'\",b''\r",
      "\r\n",
      "b'Farhana shariff',b'very good apps. easy and convenient.. with tajwid and clear wording..',b'Rated 5 stars out of five stars',b'5',\"b'April 30, 2020'\",b''\r",
      "\r\n",
      "\"b\"\"Nik Badrul Azahar Nik Ja'afar\"\"\",b'A vety good App. No advertising and the words size can be increased... Really suit me... Org semakin meningkat usia.. \\xf0\\x9f\\x98\\x81',b'Rated 5 stars out of five stars',b'3',\"b'May 1, 2020'\",b''\r",
      "\r\n",
      "b'Nik Farah Amalina',\"b'No ads, user-friendly, nice features. 11/10\\xf0\\x9f\\x8c\\x9f'\",b'Rated 5 stars out of five stars',b'4',\"b'April 30, 2020'\",b''\r",
      "\r\n",
      "b'Lym',b'The best for those who want to learn about tajwid and more..no ads..easy to use\\xe2\\x9c\\xa8 Totally worth it',b'Rated 5 stars out of five stars',b'1',\"b'May 6, 2020'\",b''\r",
      "\r\n",
      "b'Nor Syahirah Mohamed Nasrudin',b'Nice and easy apps without the ads. Tq for this awesome app!',b'Rated 5 stars out of five stars',b'38',\"b'April 28, 2020'\",b''\r",
      "\r\n",
      "b'skyline rxz',b'Apps alquran terbaik pernah saya pakai. Tukar ke premium sebab nak support developer. Semoga dipermudah urusan dunia akhirat. The best alquram apps i had used. Subscribed to premium to support developer. May Allah ease.',b'Rated 5 stars out of five stars',b'5',\"b'May 1, 2020'\",b''\r",
      "\r\n",
      "b'Zahari Yusoff',\"b'Alhamdullillah.. I like it very much. But I need \"\"HISTORY\"\" about the list of page & date & time that i had read previously'\",b'Rated 5 stars out of five stars',b'2',\"b'May 14, 2020'\",b''\r",
      "\r\n",
      "b'Izzat Rohaizad',b'I cannot create new account for the apps it show failed to create.',b'Rated 4 stars out of five stars',b'34',\"b'April 28, 2020'\",b''\r",
      "\r\n",
      "b'Rashdi Hamid',b'Very User Friendly. Easy to seach for Surah and Ayat.',b'Rated 5 stars out of five stars',b'1',\"b'May 3, 2020'\",b''\r",
      "\r\n",
      "b'A Google user',\"b'Very good, very convenient and helpful'\",b'Rated 4 stars out of five stars',b'1',\"b'May 8, 2020'\",b''\r",
      "\r\n",
      "b'Yusryna Yusri',b'Someone from twitter said this app is really useful so i downloaded it and so far it is really good. Thank you!',b'Rated 5 stars out of five stars',b'69',\"b'April 11, 2020'\",b''\r",
      "\r\n",
      "b'habib irwan',b'The best app for tilawah.. Complete with tajwid.. Recommend',b'Rated 5 stars out of five stars',b'',\"b'May 22, 2020'\",b''\r",
      "\r\n",
      "b'hasan aron',b'Useful and user friendly..recommended',b'Rated 5 stars out of five stars',b'1',\"b'May 1, 2020'\",b''\r",
      "\r\n",
      "b'Family Kita',b'Perfect App Very good apps It will be better if have ayat manzil too in this app Very recommended to others',b'Rated 4 stars out of five stars',b'1',\"b'May 1, 2020'\",b''\r",
      "\r\n",
      "b'yazim yahya',b'Very easy to read & follow',b'Rated 5 stars out of five stars',b'5',\"b'April 28, 2020'\",b''\r",
      "\r\n",
      "b'Fitri Mokhtar',b'Really good for read quran anywhere',b'Rated 5 stars out of five stars',b'',\"b'May 4, 2020'\",b''\r",
      "\r\n",
      "b'Ikram Omar',\"b\"\"Last time was quite ok. But after update the 'pencarian ayat' section have some issues. Please fix this \\xf0\\x9f\\x99\\x8f\"\"\",b'Rated 2 stars out of five stars',b'93',\"b'March 1, 2020'\",b''\r",
      "\r\n",
      "b'ymanda my',\"b'the best for learning quran.. but pls improve for others like adzan, add more language, prayer time for other country..'\",b'Rated 5 stars out of five stars',b'',\"b'May 6, 2020'\",b''\r",
      "\r\n",
      "b'Mohd Faez Zulkepli',\"b'Wonderful apps where you can refer tajwid with colour, audio, youtube link, etc. great layout and easy to use.'\",b'Rated 5 stars out of five stars',b'87',\"b'February 9, 2020'\",b''\r",
      "\r\n",
      "b'Aku Mym',b'Very good apps....congrate to all team...May Allah guide all of us..Amin',b'Rated 5 stars out of five stars',b'1',\"b'May 2, 2020'\",b''\r",
      "\r\n",
      "b'Firdaus Hariri',\"b\"\"It's very easy to use. Thank you\"\"\",b'Rated 5 stars out of five stars',b'3',\"b'April 25, 2020'\",b''\r",
      "\r\n",
      "b'nani aziz',b'Best app.. very user friendly',b'Rated 5 stars out of five stars',b'',\"b'May 7, 2020'\",b''\r",
      "\r\n",
      "b'yahya hassan',b'I m happy downloading this application as it could be the best guidance to learn AlQuran.',b'Rated 5 stars out of five stars',b'2',\"b'April 28, 2020'\",b''\r",
      "\r\n",
      "b'Azlan Halim',b'Nice apps to tadabbur and learn tajwid....like it \\xf0\\x9f\\x98\\x8a',b'Rated 5 stars out of five stars',b'2',\"b'April 30, 2020'\",b''\r",
      "\r\n",
      "b'yuki mirae',\"b'so far so good, hopefully can put muslimah voice'\",b'Rated 5 stars out of five stars',b'',\"b'May 4, 2020'\",b''\r",
      "\r\n",
      "b'rafiz syam manan',\"b'Apps yg bagus! Saiz boleh ubah, upgrade to premium utk full customise.. Weldone & pls keep it up! \\xf0\\x9f\\x91\\x8d\\xf0\\x9f\\x91\\x8d\\xf0\\x9f\\x91\\x8d'\",b'Rated 5 stars out of five stars',b'',\"b'May 10, 2020'\",b''\r",
      "\r\n",
      "b'Norazimah Othman',b'Really good apps. Easy to follow',b'Rated 5 stars out of five stars',b'11',\"b'March 6, 2020'\",b''\r",
      "\r\n"
     ]
    }
   ],
   "source": [
    "!cat review.csv"
   ]
  },
  {
   "cell_type": "code",
   "execution_count": null,
   "metadata": {},
   "outputs": [],
   "source": []
  }
 ],
 "metadata": {
  "accelerator": "GPU",
  "colab": {
   "collapsed_sections": [],
   "name": "Google_Apps_App_Store_Reviews_Extractor.ipynb",
   "provenance": [],
   "version": "0.3.2"
  },
  "kernelspec": {
   "display_name": "Python 3",
   "language": "python",
   "name": "python3"
  },
  "language_info": {
   "codemirror_mode": {
    "name": "ipython",
    "version": 3
   },
   "file_extension": ".py",
   "mimetype": "text/x-python",
   "name": "python",
   "nbconvert_exporter": "python",
   "pygments_lexer": "ipython3",
   "version": "3.7.6"
  }
 },
 "nbformat": 4,
 "nbformat_minor": 1
}
